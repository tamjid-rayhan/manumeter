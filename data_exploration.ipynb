{
 "cells": [
  {
   "cell_type": "code",
   "execution_count": 1,
   "metadata": {},
   "outputs": [],
   "source": [
    "import pandas as pd\n",
    "import numpy as np \n",
    "#from keras.models import Sequential\n",
    "#from keras.layers import Activation, Dropout, Flatten, Dense, LSTM, RepeatVector, TimeDistributed\n",
    "from scipy.io import loadmat\n"
   ]
  },
  {
   "cell_type": "code",
   "execution_count": 18,
   "metadata": {},
   "outputs": [
    {
     "output_type": "execute_result",
     "data": {
      "text/plain": "dict_keys(['__header__', '__version__', '__globals__', 'Data', 'Mag_Angle_MxMy', 'Mag_Angle_MxMy_2', 'Mag_Angle_MxMz', 'Mag_Angle_MxMz_2', 'Mag_Angle_MyMx', 'Mag_Angle_MyMx_2', 'Mag_Angle_MyMz', 'Mag_Angle_MyMz_2', 'Mag_Angle_MzMx', 'Mag_Angle_MzMx_2', 'Mag_Angle_MzMy', 'Mag_Angle_MzMy_2', 'Mx', 'My', 'Mz', 'Pot1', 'Pot2', 'Pot_Angle_1', 'Pot_Angle_2', 'data', 'i', 'idx1', 'idx2', 'idxx1', 'idxx2', 'idy1', 'idy2', 'idyy1', 'idyy2', 'idz1', 'idz2', 'idzz1', 'idzz2', 'numberOfDatas', 'p2_MxMy', 'p2_MxMz', 'p2_MyMx', 'p2_MyMz', 'p2_MzMx', 'p2_MzMy', 'p4_MxMy', 'p4_MxMz', 'p4_MyMx', 'p4_MyMz', 'p4_MzMx', 'p4_MzMy', 'px', 'py', 'pz', 'ratio', 'None', 'theta_magnet_MxMy', 'theta_magnet_MxMz', 'theta_magnet_MyMx', 'theta_magnet_MyMz', 'theta_magnet_MzMx', 'theta_magnet_MzMy', 'x1', 'x2', 'xx2', 'y1', 'y2', 'yy2', 'z1', 'z2', 'zz2', '__function_workspace__'])"
     },
     "metadata": {},
     "execution_count": 18
    }
   ],
   "source": [
    "data1 = loadmat(\"./data/Pot1_0_Pot2_0_50_4X_wMag.mat\")\n",
    "data2 = loadmat(\"./data/Pot1_10_Pot2_0_50_4X_wMag.mat\")\n",
    "data3 = loadmat(\"./data/Pot1_20_Pot2_0_50_4X_wMag.mat\")\n",
    "data4 = loadmat(\"./data/Pot1_30_Pot2_0_50_4X_wMag.mat\")\n",
    "data5 = loadmat(\"./data/Pot1_50_Pot2_0_50_4X_wMag.mat\")\n",
    "data6 = loadmat(\"./data/Pot1_60_Pot2_0_50_4X_wMag.mat\")\n",
    "data7 = loadmat(\"./data/Pot1_40_Pot2_0_50_4X_wMag.mat\")\n",
    "\n",
    "data7.keys()"
   ]
  },
  {
   "cell_type": "code",
   "execution_count": 19,
   "metadata": {},
   "outputs": [
    {
     "output_type": "stream",
     "name": "stdout",
     "text": "1\n-317.33965941278154\n"
    }
   ],
   "source": [
    "print(len(data1['Mx'][0]))\n",
    "print(data1['Mx'][0].flat[0])"
   ]
  },
  {
   "cell_type": "code",
   "execution_count": 20,
   "metadata": {},
   "outputs": [],
   "source": [
    "variable_list = ['Mx', 'My', 'Mz', 'Pot1', 'Pot2']\n",
    "\n",
    "data_frame_list = []\n",
    "\n",
    "for data in [data1, data2, data3, data4, data5, data6, data7]:\n",
    "    data_as_list = [[data[variable][i].flat[0] for variable in variable_list]\n",
    "                        for i in range(len(data['Mx']))]\n",
    "    data_frame = pd.DataFrame(data_as_list, columns = variable_list)\n",
    "    data_frame_list.append(data_frame)\n",
    "\n",
    "combined_data_frame = pd.concat(data_frame_list, ignore_index=True)"
   ]
  },
  {
   "cell_type": "code",
   "execution_count": 22,
   "metadata": {},
   "outputs": [
    {
     "output_type": "execute_result",
     "data": {
      "text/plain": "             Mx          My          Mz  Pot1  Pot2\n688 -219.661472 -308.806823 -193.512572   350   814\n689 -220.938574 -305.664262 -186.522321   350   816\n690 -218.514853 -306.379091 -187.183863   352   815\n691 -219.938574 -310.806823 -176.512572   352   815\n692 -220.360311 -313.664262 -181.512572   350   814",
      "text/html": "<div>\n<style scoped>\n    .dataframe tbody tr th:only-of-type {\n        vertical-align: middle;\n    }\n\n    .dataframe tbody tr th {\n        vertical-align: top;\n    }\n\n    .dataframe thead th {\n        text-align: right;\n    }\n</style>\n<table border=\"1\" class=\"dataframe\">\n  <thead>\n    <tr style=\"text-align: right;\">\n      <th></th>\n      <th>Mx</th>\n      <th>My</th>\n      <th>Mz</th>\n      <th>Pot1</th>\n      <th>Pot2</th>\n    </tr>\n  </thead>\n  <tbody>\n    <tr>\n      <th>688</th>\n      <td>-219.661472</td>\n      <td>-308.806823</td>\n      <td>-193.512572</td>\n      <td>350</td>\n      <td>814</td>\n    </tr>\n    <tr>\n      <th>689</th>\n      <td>-220.938574</td>\n      <td>-305.664262</td>\n      <td>-186.522321</td>\n      <td>350</td>\n      <td>816</td>\n    </tr>\n    <tr>\n      <th>690</th>\n      <td>-218.514853</td>\n      <td>-306.379091</td>\n      <td>-187.183863</td>\n      <td>352</td>\n      <td>815</td>\n    </tr>\n    <tr>\n      <th>691</th>\n      <td>-219.938574</td>\n      <td>-310.806823</td>\n      <td>-176.512572</td>\n      <td>352</td>\n      <td>815</td>\n    </tr>\n    <tr>\n      <th>692</th>\n      <td>-220.360311</td>\n      <td>-313.664262</td>\n      <td>-181.512572</td>\n      <td>350</td>\n      <td>814</td>\n    </tr>\n  </tbody>\n</table>\n</div>"
     },
     "metadata": {},
     "execution_count": 22
    }
   ],
   "source": [
    "combined_data_frame.tail()"
   ]
  },
  {
   "cell_type": "code",
   "execution_count": 23,
   "metadata": {},
   "outputs": [],
   "source": [
    "combined_data_frame.to_csv('./data/combined_data_v1.csv')"
   ]
  }
 ],
 "metadata": {
  "language_info": {
   "codemirror_mode": {
    "name": "ipython",
    "version": 3
   },
   "file_extension": ".py",
   "mimetype": "text/x-python",
   "name": "python",
   "nbconvert_exporter": "python",
   "pygments_lexer": "ipython3",
   "version": "3.6.10-final"
  },
  "orig_nbformat": 2,
  "kernelspec": {
   "name": "python361064bittensorflowdevcondaac0edd3d8d564657a18dec2b4ad7f11e",
   "display_name": "Python 3.6.10 64-bit ('tensorflow-dev': conda)"
  }
 },
 "nbformat": 4,
 "nbformat_minor": 2
}